{
 "cells": [
  {
   "cell_type": "markdown",
   "metadata": {},
   "source": [
    "###### BOIKWD \n",
    "# Lab 6 Elementy teorii gier. Strategie minimax i maximin.\n",
    "\n",
    "## Mikołaj Ogarek Środa 8:00 grupa 1a"
   ]
  },
  {
   "cell_type": "markdown",
   "metadata": {},
   "source": [
    "Zadanie 2\n"
   ]
  },
  {
   "cell_type": "code",
   "execution_count": 217,
   "metadata": {},
   "outputs": [],
   "source": [
    "\n",
    "def zadanie2(stan_gry, kminus1, kt, gracz, wynik):\n",
    "    if(kt==0):\n",
    "        k=1\n",
    "    else:\n",
    "        k=kt\n",
    "    \n",
    "    zmiany=[]\n",
    "    for ilosc_monet in range(1,2*k):\n",
    "        for n,stos in enumerate(stan_gry,0):\n",
    "            if(gracz):\n",
    "                if(stos[0]==False and (stos[2]-ilosc_monet)>=0):\n",
    "                    wynik1 = wynik + ilosc_monet\n",
    "                    zmiany.append([wynik1, n,[True, stos[1], stos[2]-ilosc_monet], ilosc_monet])                \n",
    "            else:\n",
    "                if(stos[1]==False and (stos[2]-ilosc_monet)>=0):\n",
    "                    wynik1 = wynik - ilosc_monet\n",
    "                    zmiany.append([wynik1, n,[stos[0], True, stos[2]-ilosc_monet], ilosc_monet]) \n",
    "    \n",
    "    \n",
    "    if(zmiany==[]):\n",
    "        if(kminus1==kt==0):\n",
    "            return wynik\n",
    "        else:\n",
    "            return(zadanie2(stan_gry,kt,0,not gracz,wynik))\n",
    "    \n",
    "    else:\n",
    "        if(gracz):\n",
    "            maxi_king = -100000\n",
    "            for i in zmiany:\n",
    "                if(i[0]>maxi_king):\n",
    "                    maxi_king=i[0]\n",
    "            wielkoludy=[]\n",
    "            for i in zmiany:\n",
    "                if(i[0]==maxi_king):\n",
    "                    stan1 = stan_gry\n",
    "                    stan1[i[1]]=i[2]\n",
    "                    wielkoludy.append(zadanie2(stan1,kt,i[3],False,i[0]))\n",
    "            return(max(wielkoludy))\n",
    "        else:\n",
    "            mini_king = 100000\n",
    "            for i in zmiany:\n",
    "                if(i[0]<mini_king):\n",
    "                    mini_king=i[0]\n",
    "            liliputy=[]\n",
    "            for i in zmiany:\n",
    "                if(i[0]==mini_king):\n",
    "                    stan1 = stan_gry\n",
    "                    stan1[i[1]]=i[2]\n",
    "                    liliputy.append(zadanie2(stan1,kt,i[3],True,i[0]))\n",
    "            return(min(liliputy))\n"
   ]
  },
  {
   "cell_type": "code",
   "execution_count": 218,
   "metadata": {},
   "outputs": [
    {
     "name": "stdout",
     "output_type": "stream",
     "text": [
      "Przykład dla 3 stosów, jedna, dwie i sześć monet: 1 punkt dla pierwszego gracza\n",
      "1\n",
      "Przykład dla 2 stosów, po 2 monety: remis\n",
      "0\n"
     ]
    }
   ],
   "source": [
    "#Dane początkowe\n",
    "stan_gry=[[False, False, 1], [False, False, 3], [False, False, 6]]\n",
    "kminus1=0\n",
    "kt=0\n",
    "gracz=True\n",
    "wynik=0\n",
    "print(\"Przykład dla 3 stosów, jedna, dwie i sześć monet: 1 punkt dla pierwszego gracza\")\n",
    "print(zadanie2(stan_gry,kminus1,kt,gracz,wynik))\n",
    "\n",
    "#Dane początkowe\n",
    "stan_gry=[[False, False, 2], [False, False, 2],]\n",
    "kminus1=0\n",
    "kt=0\n",
    "gracz=True\n",
    "wynik=0\n",
    "print(\"Przykład dla 2 stosów, po 2 monety: remis\")\n",
    "print(zadanie2(stan_gry,kminus1,kt,gracz,wynik))"
   ]
  },
  {
   "cell_type": "code",
   "execution_count": null,
   "metadata": {},
   "outputs": [],
   "source": []
  }
 ],
 "metadata": {
  "kernelspec": {
   "display_name": "Python 3",
   "language": "python",
   "name": "python3"
  },
  "language_info": {
   "codemirror_mode": {
    "name": "ipython",
    "version": 3
   },
   "file_extension": ".py",
   "mimetype": "text/x-python",
   "name": "python",
   "nbconvert_exporter": "python",
   "pygments_lexer": "ipython3",
   "version": "3.7.0"
  }
 },
 "nbformat": 4,
 "nbformat_minor": 2
}
