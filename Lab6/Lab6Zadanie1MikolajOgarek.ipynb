{
 "cells": [
  {
   "cell_type": "markdown",
   "metadata": {},
   "source": [
    "###### BOIKWD \n",
    "# Lab 6 Elementy teorii gier. Strategie minimax i maximin.\n",
    "\n",
    "## Mikołaj Ogarek Środa 8:00 grupa 1a"
   ]
  },
  {
   "cell_type": "markdown",
   "metadata": {},
   "source": [
    "Zadanie 1\n"
   ]
  },
  {
   "cell_type": "code",
   "execution_count": 4,
   "metadata": {},
   "outputs": [],
   "source": [
    "#Data\n",
    "AB=[[20,-150,-250],[150,-80,-100],[250,100,40]]\n",
    "\n",
    "\n",
    "import numpy as np\n",
    "def zadanie1(AB):\n",
    "    AB=np.array(AB)\n",
    "    \n",
    "    miny=[]\n",
    "    for i in AB:\n",
    "        miny.append(min(i))\n",
    "        \n",
    "    maxy=[]\n",
    "    for i in np.transpose(AB):\n",
    "        maxy.append(max(i))\n",
    "        \n",
    "    if(max(miny)==min(maxy)):\n",
    "        print(max(miny))\n",
    "        \n"
   ]
  },
  {
   "cell_type": "code",
   "execution_count": 5,
   "metadata": {},
   "outputs": [
    {
     "name": "stdout",
     "output_type": "stream",
     "text": [
      "Opcja dogodna dla A i B to: \n",
      "40\n"
     ]
    }
   ],
   "source": [
    "print(\"Opcja dogodna dla A i B to: \") \n",
    "zadanie1(AB)"
   ]
  },
  {
   "cell_type": "code",
   "execution_count": null,
   "metadata": {},
   "outputs": [],
   "source": []
  },
  {
   "cell_type": "code",
   "execution_count": null,
   "metadata": {},
   "outputs": [],
   "source": []
  },
  {
   "cell_type": "code",
   "execution_count": null,
   "metadata": {},
   "outputs": [],
   "source": []
  },
  {
   "cell_type": "code",
   "execution_count": null,
   "metadata": {},
   "outputs": [],
   "source": []
  }
 ],
 "metadata": {
  "kernelspec": {
   "display_name": "Python 3",
   "language": "python",
   "name": "python3"
  },
  "language_info": {
   "codemirror_mode": {
    "name": "ipython",
    "version": 3
   },
   "file_extension": ".py",
   "mimetype": "text/x-python",
   "name": "python",
   "nbconvert_exporter": "python",
   "pygments_lexer": "ipython3",
   "version": "3.7.0"
  }
 },
 "nbformat": 4,
 "nbformat_minor": 2
}
