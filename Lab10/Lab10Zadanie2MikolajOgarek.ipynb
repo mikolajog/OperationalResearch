{
 "cells": [
  {
   "cell_type": "markdown",
   "metadata": {},
   "source": [
    "# BOIKWD \n",
    "# Lab 10 Programoawanie ilorazowe i całkowitoliczbowe\n",
    "\n",
    "## Mikołaj Ogarek Środa 8:00 grupa 1a"
   ]
  },
  {
   "cell_type": "code",
   "execution_count": 15,
   "metadata": {},
   "outputs": [
    {
     "name": "stdout",
     "output_type": "stream",
     "text": [
      "     fun: -1.0501543209876498\n",
      " message: 'Optimization terminated successfully.'\n",
      "     nit: 8\n",
      "   slack: array([0.        , 0.00146605, 0.00817901, 0.00671296, 0.        ])\n",
      "  status: 0\n",
      " success: True\n",
      "       x: array([6.86728395e-03, 1.54320988e-04, 1.54320988e-06])\n",
      "lakierki:  4450\n",
      "sportowe:  100\n"
     ]
    }
   ],
   "source": [
    "#Zadanie 2\n",
    "c = [-150,-130,0]\n",
    "A_ub = [[2,1,-9000],[1,1,-5500],[1,2.5,-10000], [-1,0,100],[0,-1,100]]\n",
    "b_ub = [0,0,0,0,0]\n",
    "A_eq = [[140,250,0]]\n",
    "b_eq = [1]\n",
    "\n",
    "y1_bounds = (0,None)\n",
    "y2_bounds = (0,None)\n",
    "y0_bounds = (0,None)\n",
    "\n",
    "\n",
    "from scipy.optimize import linprog\n",
    "res = linprog(c, A_ub=A_ub, b_ub=b_ub, A_eq=A_eq, b_eq=b_eq, bounds=[y1_bounds, y2_bounds, y0_bounds])\n",
    "\n",
    "print(res)\n",
    "\n",
    "#Wyniki\n",
    "print(\"lakierki: \", round(0.000686728395/0.000000154320988))\n",
    "print(\"sportowe: \", round(0.0000154320988/0.000000154320988))\n",
    "\n",
    "\n"
   ]
  },
  {
   "cell_type": "code",
   "execution_count": null,
   "metadata": {},
   "outputs": [],
   "source": []
  },
  {
   "cell_type": "code",
   "execution_count": null,
   "metadata": {},
   "outputs": [],
   "source": []
  }
 ],
 "metadata": {
  "kernelspec": {
   "display_name": "Python 3",
   "language": "python",
   "name": "python3"
  },
  "language_info": {
   "codemirror_mode": {
    "name": "ipython",
    "version": 3
   },
   "file_extension": ".py",
   "mimetype": "text/x-python",
   "name": "python",
   "nbconvert_exporter": "python",
   "pygments_lexer": "ipython3",
   "version": "3.7.0"
  }
 },
 "nbformat": 4,
 "nbformat_minor": 2
}
