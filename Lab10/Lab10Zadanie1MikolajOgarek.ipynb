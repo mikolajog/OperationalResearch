{
 "cells": [
  {
   "cell_type": "markdown",
   "metadata": {},
   "source": [
    "# BOIKWD \n",
    "# Lab 10 Programoawanie ilorazowe i całkowitoliczbowe\n",
    "\n",
    "## Mikołaj Ogarek Środa 8:00 grupa 1a"
   ]
  },
  {
   "cell_type": "code",
   "execution_count": 9,
   "metadata": {},
   "outputs": [
    {
     "name": "stdout",
     "output_type": "stream",
     "text": [
      "     fun: -3.0\n",
      " message: 'Optimization terminated successfully.'\n",
      "     nit: 4\n",
      "   slack: array([0.42857143, 0.        ])\n",
      "  status: 0\n",
      " success: True\n",
      "       x: array([1.        , 0.        , 0.00285714])\n",
      "A:  350\n",
      "B:  0\n"
     ]
    }
   ],
   "source": [
    "#Zadanie 1\n",
    "c = [-3,-4,0]\n",
    "A_ub = [[1,2,-500],[1,1,-350]]\n",
    "b_ub = [0,0]\n",
    "A_eq = [[1,2,0]]\n",
    "b_eq = [1]\n",
    "\n",
    "y1_bounds = (0,None)\n",
    "y2_bounds = (0,None)\n",
    "y0_bounds = (0,None)\n",
    "\n",
    "\n",
    "from scipy.optimize import linprog\n",
    "res = linprog(c, A_ub=A_ub, b_ub=b_ub,A_eq=A_eq, b_eq=b_eq,bounds=[y1_bounds, y2_bounds, y0_bounds])\n",
    "\n",
    "print(res)\n",
    "\n",
    "print(\"A: \", round(1/0.00285714))\n",
    "print(\"B: \", round(0/0.00285714))\n",
    "\n"
   ]
  },
  {
   "cell_type": "code",
   "execution_count": null,
   "metadata": {},
   "outputs": [],
   "source": []
  },
  {
   "cell_type": "code",
   "execution_count": null,
   "metadata": {},
   "outputs": [],
   "source": []
  }
 ],
 "metadata": {
  "kernelspec": {
   "display_name": "Python 3",
   "language": "python",
   "name": "python3"
  },
  "language_info": {
   "codemirror_mode": {
    "name": "ipython",
    "version": 3
   },
   "file_extension": ".py",
   "mimetype": "text/x-python",
   "name": "python",
   "nbconvert_exporter": "python",
   "pygments_lexer": "ipython3",
   "version": "3.7.0"
  }
 },
 "nbformat": 4,
 "nbformat_minor": 2
}
