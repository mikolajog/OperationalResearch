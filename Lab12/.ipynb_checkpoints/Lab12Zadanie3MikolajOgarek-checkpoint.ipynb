{
 "cells": [
  {
   "cell_type": "markdown",
   "metadata": {},
   "source": [
    "# BOIKWD \n",
    "# Lab 12 Zagadnienie przydziału\n",
    "\n",
    "## Mikołaj Ogarek Środa 8:00 grupa 1a"
   ]
  },
  {
   "cell_type": "code",
   "execution_count": 1,
   "metadata": {},
   "outputs": [
    {
     "name": "stdout",
     "output_type": "stream",
     "text": [
      "Collecting munkres\n",
      "  Downloading https://files.pythonhosted.org/packages/64/97/61ddc63578870e04db6eb1d3bee58ad4e727f682068a7c7405edb8b2cdeb/munkres-1.1.2-py2.py3-none-any.whl\n",
      "Installing collected packages: munkres\n",
      "Successfully installed munkres-1.1.2\n"
     ]
    }
   ],
   "source": [
    "! pip install munkres"
   ]
  },
  {
   "cell_type": "code",
   "execution_count": 1,
   "metadata": {},
   "outputs": [
    {
     "name": "stdout",
     "output_type": "stream",
     "text": [
      "Highest profit through this matrix:\n",
      "[  5,   3,   4,   4,   0]\n",
      "[  6,   3,   4,   4,   0]\n",
      "[  D,   4,   5,   4,   0]\n",
      "[  D,   3,   4,   4,   0]\n",
      "[  4,   4,   4,   4,   0]\n",
      "(0, 4) -> 0\n",
      "(1, 0) -> 6\n",
      "(2, 2) -> 5\n",
      "(3, 3) -> 4.8\n",
      "(4, 1) -> 4\n",
      "total profit=19.8\n"
     ]
    }
   ],
   "source": [
    "#Zadanie 3\n",
    "from munkres import Munkres, print_matrix, make_cost_matrix, DISALLOWED\n",
    "import sys\n",
    "\n",
    "matrix = [[5.6,3.2,4.4,4.7,0],\n",
    "          [6,3.5,4.6,4.5,0],\n",
    "          [DISALLOWED, 4,5,4.8,0],\n",
    "         [DISALLOWED, 3.8, 4.7, 4.8,0],\n",
    "         [4.8, 4, 4.5, 4.2,0]]\n",
    "cost_matrix = make_cost_matrix(matrix, lambda cost: (sys.maxsize - cost) if\n",
    "                                      (cost != DISALLOWED) else DISALLOWED)\n",
    "m = Munkres()\n",
    "indexes = m.compute(cost_matrix)\n",
    "print_matrix(matrix, msg='Highest profit through this matrix:')\n",
    "total = 0\n",
    "for row, column in indexes:\n",
    "    value = matrix[row][column]\n",
    "    total += value\n",
    "    print(f'({row}, {column}) -> {value}')\n",
    "print(f'total profit={total}')\n"
   ]
  },
  {
   "cell_type": "code",
   "execution_count": 2,
   "metadata": {},
   "outputs": [
    {
     "name": "stdout",
     "output_type": "stream",
     "text": [
      "Przydział: \n",
      "Jednodniowa:  PEKAO SA\n",
      "1miesieczna:  Mbank,\n",
      "3miesieczna:  Millenium\n",
      "6miesieczna:  ING\n",
      "Łączny zysk: 19.8\n"
     ]
    }
   ],
   "source": [
    "print(\"Przydział: \")\n",
    "print(\"Jednodniowa: \", \"PEKAO SA\")\n",
    "print(\"1miesieczna: \", \"Mbank,\")\n",
    "print(\"3miesieczna: \", \"Millenium\")\n",
    "print(\"6miesieczna: \", \"ING\")\n",
    "print(\"Łączny zysk: 19.8\")"
   ]
  }
 ],
 "metadata": {
  "kernelspec": {
   "display_name": "Python 3",
   "language": "python",
   "name": "python3"
  },
  "language_info": {
   "codemirror_mode": {
    "name": "ipython",
    "version": 3
   },
   "file_extension": ".py",
   "mimetype": "text/x-python",
   "name": "python",
   "nbconvert_exporter": "python",
   "pygments_lexer": "ipython3",
   "version": "3.7.0"
  }
 },
 "nbformat": 4,
 "nbformat_minor": 2
}
