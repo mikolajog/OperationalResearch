{
 "cells": [
  {
   "cell_type": "markdown",
   "metadata": {},
   "source": [
    "# BOIKWD \n",
    "# Lab 12 Zagadnienie przydziału\n",
    "\n",
    "## Mikołaj Ogarek Środa 8:00 grupa 1a"
   ]
  },
  {
   "cell_type": "code",
   "execution_count": 1,
   "metadata": {},
   "outputs": [
    {
     "name": "stdout",
     "output_type": "stream",
     "text": [
      "Collecting munkres\n",
      "  Downloading https://files.pythonhosted.org/packages/64/97/61ddc63578870e04db6eb1d3bee58ad4e727f682068a7c7405edb8b2cdeb/munkres-1.1.2-py2.py3-none-any.whl\n",
      "Installing collected packages: munkres\n",
      "Successfully installed munkres-1.1.2\n"
     ]
    }
   ],
   "source": [
    "! pip install munkres"
   ]
  },
  {
   "cell_type": "code",
   "execution_count": 5,
   "metadata": {
    "scrolled": true
   },
   "outputs": [
    {
     "name": "stdout",
     "output_type": "stream",
     "text": [
      "Lowest cost through this matrix:\n",
      "[5, 7, 8, 7]\n",
      "[6, 4, 7, 6]\n",
      "[7, 5, 6, 5]\n",
      "[4, 3, 5, 9]\n",
      "(0, 0) -> 5\n",
      "(1, 1) -> 4\n",
      "(2, 3) -> 5\n",
      "(3, 2) -> 5\n",
      "total cost: 19\n"
     ]
    }
   ],
   "source": [
    "#Zadanie 1\n",
    "from munkres import Munkres, print_matrix\n",
    "\n",
    "matrix = [[5, 7,8,7],\n",
    "          [6, 4,7,6],\n",
    "          [7, 5,6,5],\n",
    "          [4,3,5,9]]\n",
    "m = Munkres()\n",
    "indexes = m.compute(matrix)\n",
    "print_matrix(matrix, msg='Lowest cost through this matrix:')\n",
    "total = 0\n",
    "for row, column in indexes:\n",
    "    value = matrix[row][column]\n",
    "    total += value\n",
    "    print(f'({row}, {column}) -> {value}')\n",
    "print(f'total cost: {total}')"
   ]
  },
  {
   "cell_type": "code",
   "execution_count": 13,
   "metadata": {
    "scrolled": false
   },
   "outputs": [
    {
     "name": "stdout",
     "output_type": "stream",
     "text": [
      "Przydział:\n",
      "Warsztat 1:  Ford  koszt: 5\n",
      "Warsztat 2:  Volkswagen  koszt: 4\n",
      "Warsztat 3:  Fiat  koszt: 5\n",
      "Warsztat 4:  Toyota  koszt: 5\n",
      "Łączny koszt: 19\n"
     ]
    }
   ],
   "source": [
    "print(\"Przydział:\")\n",
    "print(\"Warsztat 1: \", \"Ford\", \" koszt: 5\")\n",
    "print(\"Warsztat 2: \", \"Volkswagen\",\" koszt: 4\" )\n",
    "print(\"Warsztat 3: \", \"Fiat\",\" koszt: 5\")\n",
    "print(\"Warsztat 4: \", \"Toyota\",\" koszt: 5\")\n",
    "print(\"Łączny koszt: 19\")"
   ]
  }
 ],
 "metadata": {
  "kernelspec": {
   "display_name": "Python 3",
   "language": "python",
   "name": "python3"
  },
  "language_info": {
   "codemirror_mode": {
    "name": "ipython",
    "version": 3
   },
   "file_extension": ".py",
   "mimetype": "text/x-python",
   "name": "python",
   "nbconvert_exporter": "python",
   "pygments_lexer": "ipython3",
   "version": "3.7.0"
  }
 },
 "nbformat": 4,
 "nbformat_minor": 2
}
