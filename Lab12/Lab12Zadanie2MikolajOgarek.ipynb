{
 "cells": [
  {
   "cell_type": "markdown",
   "metadata": {},
   "source": [
    "# BOIKWD \n",
    "# Lab 12 Zagadnienie przydziału\n",
    "\n",
    "## Mikołaj Ogarek Środa 8:00 grupa 1a"
   ]
  },
  {
   "cell_type": "code",
   "execution_count": 1,
   "metadata": {},
   "outputs": [
    {
     "name": "stdout",
     "output_type": "stream",
     "text": [
      "Collecting munkres\n",
      "  Downloading https://files.pythonhosted.org/packages/64/97/61ddc63578870e04db6eb1d3bee58ad4e727f682068a7c7405edb8b2cdeb/munkres-1.1.2-py2.py3-none-any.whl\n",
      "Installing collected packages: munkres\n",
      "Successfully installed munkres-1.1.2\n"
     ]
    }
   ],
   "source": [
    "! pip install munkres"
   ]
  },
  {
   "cell_type": "code",
   "execution_count": 1,
   "metadata": {},
   "outputs": [
    {
     "name": "stdout",
     "output_type": "stream",
     "text": [
      "Lowest cost through this matrix:\n",
      "[  0,   0,   0,   0,   0,   0]\n",
      "[  2,   1,   2,   1,   2,   1]\n",
      "[  0,   0,   0,   0,   0,   0]\n",
      "[  0,   0,   0,   0,   0,   0]\n",
      "[  0,   0,   0,   0,   0,   0]\n",
      "[  0,   0,   0,   0,   0,   0]\n",
      "(0, 1) -> 0.6\n",
      "(1, 3) -> 1.5\n",
      "(2, 4) -> 0.7\n",
      "(3, 5) -> 0.2\n",
      "(4, 0) -> 0.2\n",
      "(5, 2) -> 0.3\n",
      "total cost: 3.5\n"
     ]
    }
   ],
   "source": [
    "#Zadanie 2\n",
    "from munkres import Munkres, print_matrix\n",
    "\n",
    "matrix = [[0.8,0.6,0.8,0.6,0.8,0.6],\n",
    "          [2.0,1.5,2.0,1.5,2.0,1.5],\n",
    "          [0.7,0.6,0.7,0.6,0.7,0.6],\n",
    "          [0.4,0.2,0.4,0.2,0.4,0.2],\n",
    "          [0.2,0.4,0.2,0.4,0.2,0.4],\n",
    "          [0.3,0.5,0.3,0.5,0.3,0.5]\n",
    "         ]\n",
    "m = Munkres()\n",
    "indexes = m.compute(matrix)\n",
    "print_matrix(matrix, msg='Lowest cost through this matrix:')\n",
    "total = 0\n",
    "for row, column in indexes:\n",
    "    value = matrix[row][column]\n",
    "    total += value\n",
    "    print(f'({row}, {column}) -> {value}')\n",
    "print(f'total cost: {total}')"
   ]
  },
  {
   "cell_type": "code",
   "execution_count": 2,
   "metadata": {},
   "outputs": [
    {
     "name": "stdout",
     "output_type": "stream",
     "text": [
      "Przydział: \n",
      "P1:  Z3, Z5, Z6\n",
      "P2:  Z1, Z2, Z4\n",
      "Łączny koszt: 3.5\n"
     ]
    }
   ],
   "source": [
    "print(\"Przydział: \")\n",
    "print(\"P1: \", \"Z3, Z5, Z6\")\n",
    "print(\"P2: \", \"Z1, Z2, Z4\")\n",
    "print(\"Łączny koszt: 3.5\")"
   ]
  },
  {
   "cell_type": "code",
   "execution_count": null,
   "metadata": {},
   "outputs": [],
   "source": []
  }
 ],
 "metadata": {
  "kernelspec": {
   "display_name": "Python 3",
   "language": "python",
   "name": "python3"
  },
  "language_info": {
   "codemirror_mode": {
    "name": "ipython",
    "version": 3
   },
   "file_extension": ".py",
   "mimetype": "text/x-python",
   "name": "python",
   "nbconvert_exporter": "python",
   "pygments_lexer": "ipython3",
   "version": "3.7.0"
  }
 },
 "nbformat": 4,
 "nbformat_minor": 2
}
