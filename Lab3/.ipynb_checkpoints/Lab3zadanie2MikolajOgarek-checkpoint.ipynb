{
 "cells": [
  {
   "cell_type": "markdown",
   "metadata": {},
   "source": [
    "# BOIKWD \n",
    "# Lab 3 Metoda GMM i niespójność \n",
    "\n",
    "## Mikołaj Ogarek Środa 8:00 grupa 1a"
   ]
  },
  {
   "cell_type": "markdown",
   "metadata": {},
   "source": [
    "Wyniki zadań poniżej"
   ]
  },
  {
   "cell_type": "code",
   "execution_count": 34,
   "metadata": {},
   "outputs": [],
   "source": [
    "#Data\n",
    "A=[[1,7,3] , [1/7,1,2] , [1/3,1/2,1]]\n",
    "B=[[1,1/5,7,1] , [5,1,1/2,2] , [1/7,2,1,3] , [1,1/2,1/3,1]]\n",
    "C=[[1,2,5,1,7] , [1/2,1,3,1/2,5] , [1/5,1/3,1,1/5,2] , [1,2,5,1,7] , [1/7,1/5,1/2,1/7,1]]\n",
    "\n",
    "przyk = [[1,3,1/2,5],[1/3,1,1/6,2],[2,6,1,9],[1/5,1/2,1/9,1]]\n"
   ]
  },
  {
   "cell_type": "code",
   "execution_count": 35,
   "metadata": {},
   "outputs": [
    {
     "name": "stdout",
     "output_type": "stream",
     "text": [
      "(0.13475389612171584+0j)\n",
      "(0.7428823466101179+0j)\n",
      "(0.006100230953348884+0j)\n",
      "(0.0026514810241315225+0j)\n"
     ]
    }
   ],
   "source": [
    "#Saaty index\n",
    "from numpy import linalg as LA\n",
    "def index_saty(A):\n",
    "    w, v = LA.eig(A) #eigen values w and corresponding vectors v\n",
    "    max_eigen_val = max(w)  #finding max eigen_value\n",
    "    \n",
    "    n = len(A[1])\n",
    "    \n",
    "    ci = (max_eigen_val - n) / (n-1)\n",
    "    \n",
    "    return ci\n",
    "\n",
    "print(index_saty(A))\n",
    "print(index_saty(B))\n",
    "print(index_saty(C))\n",
    "print(index_saty(przyk))"
   ]
  },
  {
   "cell_type": "code",
   "execution_count": 36,
   "metadata": {},
   "outputs": [
    {
     "name": "stdout",
     "output_type": "stream",
     "text": [
      "0.2636634360198514\n",
      "0.15833684999148087\n",
      "0.003392453750231957\n",
      "0.003218384918081225\n"
     ]
    }
   ],
   "source": [
    "#Geometric index\n",
    "\n",
    "import numpy as np\n",
    "\n",
    "def geometric_rank(A):\n",
    "    \n",
    "    products = []\n",
    "    \n",
    "    for i in A:\n",
    "        n = len(i)\n",
    "        val = np.prod(i)\n",
    "        \n",
    "        products.append(pow(val,1/n))\n",
    "        \n",
    "    \n",
    "    \n",
    "    w=[]\n",
    "    \n",
    "    for idx,j in enumerate(products):\n",
    "        w.append(products[idx]/sum(products))\n",
    "        \n",
    "    return w\n",
    "\n",
    "        \n",
    "import math\n",
    "\n",
    "def count_e(A):\n",
    "    w = geometric_rank(A)\n",
    "\n",
    "    e =[]\n",
    "    \n",
    "    for ind1,i in  enumerate(A):\n",
    "        ei = []\n",
    "        for ind2,j in enumerate(i):\n",
    "            ei.append(A[ind1][ind2]*(w[ind2]/w[ind1]))\n",
    "        \n",
    "        e.append(ei)\n",
    "    \n",
    "    return e\n",
    "\n",
    "\n",
    "\n",
    "def index_geometric(A):\n",
    "    \n",
    "    n = len(A[1])\n",
    "    e = count_e(A)\n",
    "        \n",
    "    \n",
    "    gen_s = 0\n",
    "    for i in range(n-1):\n",
    "        temp_s = 0\n",
    "        for j in range(i,n):\n",
    "            temp_s += pow((math.log((e[i][j]))),2)\n",
    "    gen_s += temp_s\n",
    "    \n",
    "                          \n",
    "    gci = (2 * gen_s)/((n-1)*(n-2))\n",
    "    \n",
    "    return gci\n",
    "            \n",
    "    \n",
    "print(index_geometric(A))\n",
    "print(index_geometric(B))\n",
    "print(index_geometric(C))\n",
    "print(index_geometric(przyk))"
   ]
  },
  {
   "cell_type": "code",
   "execution_count": 37,
   "metadata": {},
   "outputs": [
    {
     "name": "stdout",
     "output_type": "stream",
     "text": [
      "0.7857142857142857\n",
      "0.9857142857142858\n",
      "0.30000000000000004\n"
     ]
    }
   ],
   "source": [
    "#Koczkodaj's index\n",
    "\n",
    "def koczkodaj_index(A):\n",
    "    \n",
    "    lista=[]\n",
    "    \n",
    "    \n",
    "    for i in range(len(A)):\n",
    "        for j in range(len(A)):\n",
    "            for k in range(len(A)):\n",
    "                licz1 = A[i][j]/((A[i][k])*(A[k][j]))\n",
    "                \n",
    "                l = [abs(1-licz1),abs(1-(1/licz1))]\n",
    "                \n",
    "                lista.append(min(l))\n",
    "                \n",
    "                \n",
    "    return max(lista)\n",
    "\n",
    "\n",
    "\n",
    "print(koczkodaj_index(A))   \n",
    "print(koczkodaj_index(B))\n",
    "print(koczkodaj_index(C))\n",
    "                \n",
    "                "
   ]
  },
  {
   "cell_type": "code",
   "execution_count": null,
   "metadata": {},
   "outputs": [],
   "source": []
  }
 ],
 "metadata": {
  "kernelspec": {
   "display_name": "Python 3",
   "language": "python",
   "name": "python3"
  },
  "language_info": {
   "codemirror_mode": {
    "name": "ipython",
    "version": 3
   },
   "file_extension": ".py",
   "mimetype": "text/x-python",
   "name": "python",
   "nbconvert_exporter": "python",
   "pygments_lexer": "ipython3",
   "version": "3.7.0"
  }
 },
 "nbformat": 4,
 "nbformat_minor": 2
}
