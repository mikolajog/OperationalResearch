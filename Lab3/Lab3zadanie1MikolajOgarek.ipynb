{
 "cells": [
  {
   "cell_type": "markdown",
   "metadata": {},
   "source": [
    "# BOIKWD \n",
    "# Lab 3 Metoda GMM i niespójność \n",
    "\n",
    "## Mikołaj Ogarek Środa 8:00 grupa 1a"
   ]
  },
  {
   "cell_type": "markdown",
   "metadata": {},
   "source": [
    "Wynik: \n",
    "<br>Ranking domów: <br>\n",
    "1. Dom 2 <br>\n",
    "2. Dom 1 <br>\n",
    "3. Dom 3 <br>"
   ]
  },
  {
   "cell_type": "code",
   "execution_count": 1,
   "metadata": {},
   "outputs": [
    {
     "name": "stdout",
     "output_type": "stream",
     "text": [
      "[[0.07192743 0.649118   0.27895457]\n",
      " [0.74286662 0.19388163 0.06325174]\n",
      " [0.19388163 0.06325174 0.74286662]\n",
      " [0.71706504 0.06576935 0.21716561]\n",
      " [0.33333333 0.33333333 0.33333333]\n",
      " [0.69095909 0.09140243 0.21763848]\n",
      " [0.7703117  0.06793298 0.16175532]\n",
      " [0.2        0.4        0.4       ]]\n",
      "[[0.3423749  0.17118745 0.06135003 0.10674552 0.01894456 0.03483414\n",
      "  0.04142501 0.22313838]]\n",
      "[[0.34715539 0.36790115 0.28494346]]\n"
     ]
    }
   ],
   "source": [
    "#Dane wejściowe\n",
    "import numpy as np\n",
    "\n",
    "\n",
    "#Input data\n",
    "c1=np.array([[1,1/7,1/5],[7,1,3],[5,1/3,1]])\n",
    "c2=np.array([[1,5,9],[1/5,1,4],[1/9,1/4,1]])\n",
    "c3=np.array([[1,4,1/5],[1/4,1,1/9],[5,9,1]])\n",
    "c4=np.array([[1,9,4],[1/9,1,1/4],[1/4,4,1]])\n",
    "c5=np.array([[1,1,1],[1,1,1],[1,1,1]])\n",
    "c6=np.array([[1,6,4],[1/6,1,1/3],[1/4,3,1]])\n",
    "c7=np.array([[1,9,6],[1/9,1,1/3],[1/6,3,1]])\n",
    "c8=np.array([[1,1/2,1/2],[2,1,1],[2,1,1]])\n",
    "cparams=np.array([[1,4,7,5,8,6,6,2],[1/4,1,5,3,7,6,6,1/3],[1/7,1/5,1,1/3,5,3,3,1/5],[1/5,1/3,3,1,6,3,4,1/2],[1/8,1/7,1/5,1/6,1,1/3,1/4,1/7],[1/6,1/6,1/3,1/3, 3,1,1/2,1/5],[1/6,1/6,1/3,1/4,4,2,1,1/5],[1/2,3,5,2,7,5,5,1]])\n",
    "\n",
    "\n",
    "def geometric_rank(A):\n",
    "    \n",
    "    products = []\n",
    "    \n",
    "    for i in A:\n",
    "\n",
    "        n = len(i)\n",
    "        val = np.prod(i)\n",
    "        \n",
    "        products.append(pow(val,1/n))\n",
    "    \n",
    "    \n",
    "    w=[]\n",
    "    \n",
    "    for idx,j in enumerate(products):\n",
    "        w.append(products[idx]/sum(products))\n",
    "        \n",
    "    return w\n",
    "\n",
    "\n",
    "a = np.array([geometric_rank(c1),geometric_rank(c2),geometric_rank(c3),geometric_rank(c4),geometric_rank(c5),geometric_rank(c6),geometric_rank(c7),geometric_rank(c8)])\n",
    "b = np.array([geometric_rank(cparams)])\n",
    "\n",
    "print(a)\n",
    "print(b)\n",
    "result = np.dot(b,a)\n",
    "\n",
    "print(result)"
   ]
  },
  {
   "cell_type": "code",
   "execution_count": null,
   "metadata": {},
   "outputs": [],
   "source": []
  },
  {
   "cell_type": "code",
   "execution_count": null,
   "metadata": {},
   "outputs": [],
   "source": []
  }
 ],
 "metadata": {
  "kernelspec": {
   "display_name": "Python 3",
   "language": "python",
   "name": "python3"
  },
  "language_info": {
   "codemirror_mode": {
    "name": "ipython",
    "version": 3
   },
   "file_extension": ".py",
   "mimetype": "text/x-python",
   "name": "python",
   "nbconvert_exporter": "python",
   "pygments_lexer": "ipython3",
   "version": "3.7.0"
  }
 },
 "nbformat": 4,
 "nbformat_minor": 2
}
