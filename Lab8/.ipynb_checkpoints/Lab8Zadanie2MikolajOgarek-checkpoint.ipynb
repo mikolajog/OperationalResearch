{
 "cells": [
  {
   "cell_type": "markdown",
   "metadata": {},
   "source": [
    "# BOIKWD \n",
    "# Lab 8 Programowanie liniowe - problemy dualne\n",
    "\n",
    "## Mikołaj Ogarek Środa 8:00 grupa 1a"
   ]
  },
  {
   "cell_type": "code",
   "execution_count": 1,
   "metadata": {},
   "outputs": [
    {
     "name": "stdout",
     "output_type": "stream",
     "text": [
      "     fun: 88000.0\n",
      " message: 'Optimization terminated successfully.'\n",
      "     nit: 4\n",
      "   slack: array([9., 0., 4., 0.])\n",
      "  status: 0\n",
      " success: True\n",
      "       x: array([3., 1.])\n",
      "[2750. 4500.]\n"
     ]
    }
   ],
   "source": [
    "#Zadanie 2\n",
    "c = [20000, 28000]\n",
    "A = [[-5,-4],[-4,-2],[-4,0],[-2,-5]]\n",
    "b = [-10,-14,-8,-11]\n",
    "\n",
    "\n",
    "from scipy.optimize import linprog\n",
    "res = linprog(c, A_ub=A, b_ub=b)\n",
    "\n",
    "print(res)\n",
    "\n",
    "import numpy as np\n",
    "a = np.array([[4,2], [2,5]])\n",
    "b = np.array([20000,28000])\n",
    "x = np.linalg.solve(a, b)\n",
    "print(x)"
   ]
  },
  {
   "cell_type": "code",
   "execution_count": null,
   "metadata": {},
   "outputs": [],
   "source": []
  }
 ],
 "metadata": {
  "kernelspec": {
   "display_name": "Python 3",
   "language": "python",
   "name": "python3"
  },
  "language_info": {
   "codemirror_mode": {
    "name": "ipython",
    "version": 3
   },
   "file_extension": ".py",
   "mimetype": "text/x-python",
   "name": "python",
   "nbconvert_exporter": "python",
   "pygments_lexer": "ipython3",
   "version": "3.7.0"
  }
 },
 "nbformat": 4,
 "nbformat_minor": 2
}
