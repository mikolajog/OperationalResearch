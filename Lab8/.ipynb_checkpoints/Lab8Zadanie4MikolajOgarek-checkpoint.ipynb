{
 "cells": [
  {
   "cell_type": "markdown",
   "metadata": {},
   "source": [
    "# BOIKWD \n",
    "# Lab 8 Programowanie liniowe - problemy dualne\n",
    "\n",
    "## Mikołaj Ogarek Środa 8:00 grupa 1a"
   ]
  },
  {
   "cell_type": "code",
   "execution_count": 1,
   "metadata": {},
   "outputs": [
    {
     "name": "stdout",
     "output_type": "stream",
     "text": [
      "     fun: -0.0\n",
      " message: 'Optimization terminated successfully.'\n",
      "     nit: 2\n",
      "   slack: array([1., 3., 4., 0., 3., 2., 4., 1., 0.])\n",
      "  status: 0\n",
      " success: True\n",
      "       x: array([0., 0., 0.])\n"
     ]
    }
   ],
   "source": [
    "#Zadanie 4\n",
    "from scipy.optimize import linprog\n",
    "import numpy as np\n",
    "c = [-12000, -24000, -27000]\n",
    "A = [[1,1,2], [1,2,0], [1,0,3], [2,1,0], [2,0,1], [0,1,4], [0,2,2], [0,3,1], [0,0,6]]\n",
    "b = [1,3,4,0,3,2,4,1,0]\n",
    "\n",
    "res = linprog(c, A, b)\n",
    "\n",
    "print(res)"
   ]
  },
  {
   "cell_type": "code",
   "execution_count": null,
   "metadata": {},
   "outputs": [],
   "source": []
  }
 ],
 "metadata": {
  "kernelspec": {
   "display_name": "Python 3",
   "language": "python",
   "name": "python3"
  },
  "language_info": {
   "codemirror_mode": {
    "name": "ipython",
    "version": 3
   },
   "file_extension": ".py",
   "mimetype": "text/x-python",
   "name": "python",
   "nbconvert_exporter": "python",
   "pygments_lexer": "ipython3",
   "version": "3.7.0"
  }
 },
 "nbformat": 4,
 "nbformat_minor": 2
}
