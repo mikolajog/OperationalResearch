{
 "cells": [
  {
   "cell_type": "markdown",
   "metadata": {},
   "source": [
    "# BOIKWD \n",
    "# Lab 8 Programowanie liniowe - problemy dualne\n",
    "\n",
    "## Mikołaj Ogarek Środa 8:00 grupa 1a"
   ]
  },
  {
   "cell_type": "code",
   "execution_count": 1,
   "metadata": {},
   "outputs": [
    {
     "name": "stdout",
     "output_type": "stream",
     "text": [
      "     fun: 10.5\n",
      " message: 'Optimization terminated successfully.'\n",
      "     nit: 6\n",
      "   slack: array([0.        , 0.        , 0.5       , 1.16666667, 0.5       ])\n",
      "  status: 0\n",
      " success: True\n",
      "       x: array([1.33333333, 0.16666667])\n"
     ]
    }
   ],
   "source": [
    "#Zadanie 1\n",
    "c = [6,15]\n",
    "A = [[-1,-4],[-3,-6],[-2,-5],[-3,-7],[-1,-1]]\n",
    "b = [-2,-5,-3,-4,-1]\n",
    "\n",
    "\n",
    "from scipy.optimize import linprog\n",
    "res = linprog(c, A_ub=A, b_ub=b)\n",
    "\n",
    "print(res)"
   ]
  },
  {
   "cell_type": "code",
   "execution_count": null,
   "metadata": {},
   "outputs": [],
   "source": []
  }
 ],
 "metadata": {
  "kernelspec": {
   "display_name": "Python 3",
   "language": "python",
   "name": "python3"
  },
  "language_info": {
   "codemirror_mode": {
    "name": "ipython",
    "version": 3
   },
   "file_extension": ".py",
   "mimetype": "text/x-python",
   "name": "python",
   "nbconvert_exporter": "python",
   "pygments_lexer": "ipython3",
   "version": "3.7.0"
  }
 },
 "nbformat": 4,
 "nbformat_minor": 2
}
