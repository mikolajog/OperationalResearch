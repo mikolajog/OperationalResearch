{
 "cells": [
  {
   "cell_type": "markdown",
   "metadata": {},
   "source": [
    "# BOIKWD \n",
    "# Lab 2 AHP - metoda EVM Zadanie 1\n",
    "\n",
    "## Mikołaj Ogarek Środa 8:00 grupa 1a"
   ]
  },
  {
   "cell_type": "markdown",
   "metadata": {},
   "source": [
    "Wynik: \n",
    "<br>Ranking domów: <br>\n",
    "1. Dom 2 <br>\n",
    "2. Dom 1 <br>\n",
    "3. Dom 3 <br>"
   ]
  },
  {
   "cell_type": "code",
   "execution_count": 6,
   "metadata": {},
   "outputs": [
    {
     "name": "stdout",
     "output_type": "stream",
     "text": [
      "Matrix with eigen vectors of criterions: \n",
      "[[0.07192743+0.j 0.74286662+0.j 0.19388163+0.j 0.71706504+0.j\n",
      "  0.33333333+0.j 0.69095909+0.j 0.7703117 +0.j 0.2       +0.j]\n",
      " [0.649118  +0.j 0.19388163+0.j 0.06325174+0.j 0.06576935+0.j\n",
      "  0.33333333+0.j 0.09140243+0.j 0.06793298+0.j 0.4       +0.j]\n",
      " [0.27895457+0.j 0.06325174+0.j 0.74286662+0.j 0.21716561+0.j\n",
      "  0.33333333+0.j 0.21763848+0.j 0.16175532+0.j 0.4       +0.j]]\n",
      "Eigen vector from parameters comparison - normalized: \n",
      "[(0.3450215779154673+0j), (0.17474244909490022+0j), (0.0620240480679052+0j), (0.10317174040760743+0j), (0.019304693215307082+0j), (0.0338409750504985+0j), (0.04123636988087492+0j), (0.22065814636743933+0j)]\n",
      "Final vector with solution: \n",
      "[0.34634713+0.j 0.36914035+0.j 0.28451251+0.j]\n"
     ]
    }
   ],
   "source": [
    "import numpy as np\n",
    "from numpy import linalg as LA\n",
    "\n",
    "#Input data\n",
    "c1=np.array([[1,1/7,1/5],[7,1,3],[5,1/3,1]])\n",
    "c2=np.array([[1,5,9],[1/5,1,4],[1/9,1/4,1]])\n",
    "c3=np.array([[1,4,1/5],[1/4,1,1/9],[5,9,1]])\n",
    "c4=np.array([[1,9,4],[1/9,1,1/4],[1/4,4,1]])\n",
    "c5=np.array([[1,1,1],[1,1,1],[1,1,1]])\n",
    "c6=np.array([[1,6,4],[1/6,1,1/3],[1/4,3,1]])\n",
    "c7=np.array([[1,9,6],[1/9,1,1/3],[1/6,3,1]])\n",
    "c8=np.array([[1,1/2,1/2],[2,1,1],[2,1,1]])\n",
    "cparams=np.array([[1,4,7,5,8,6,6,2],[1/4,1,5,3,7,6,6,1/3],[1/7,1/5,1,1/3,5,3,3,1/5],[1/5,1/3,3,1,6,3,4,1/2],[1/8,1/7,1/5,1/6,1,1/3,1/4,1/7],[1/6,1/6,1/3,1/3, 3,1,1/2,1/5],[1/6,1/6,1/3,1/4,4,2,1,1/5],[1/2,3,5,2,7,5,5,1]])\n",
    "\n",
    "#List of arrays with parameters\n",
    "clist = [c1,c2,c3,c4,c5,c6,c7,c8]\n",
    "\n",
    "\n",
    "#Process of finding matrix with normalized eigen vectors of c1,c2...\n",
    "matrix =[]\n",
    "\n",
    "for i in clist:\n",
    "    w, v = LA.eig(i) #eigen values w and corresponding vectors v\n",
    "\n",
    "    max_eigen_val = max(w)  #finding max eigen_value\n",
    "    index_max_eigen_val = (w.tolist()).index(max_eigen_val) #index of max eigen value\n",
    "    eigen_vector = np.transpose((v[:,index_max_eigen_val])).tolist() #finding eigen vector\n",
    "    \n",
    "    #process of normalizing eigen vector\n",
    "    sum_of_eigen = sum(eigen_vector) \n",
    "    eigen_vector_normalized=[]\n",
    "    \n",
    "    for i in range(len(eigen_vector)):\n",
    "        eigen_vector_normalized.append(eigen_vector[i]/sum_of_eigen)\n",
    "    \n",
    "    #adding eigen vector \n",
    "    matrix.append(eigen_vector_normalized)\n",
    "\n",
    "final_matrix_criterions = np.transpose(matrix)\n",
    "print(\"Matrix with eigen vectors of criterions: \")\n",
    "print(final_matrix_criterions)\n",
    "\n",
    "\n",
    "#process of finding eigen vector in cparams\n",
    "w, v = LA.eig(cparams) #eigen walies w and coresponding vectors c\n",
    "\n",
    "max_eigen_val = max(w) #finding max eigen_value\n",
    "index_max_eigen_val = (w.tolist()).index(max_eigen_val) #index if max eigen value\n",
    "eigen_vector = (v[:,index_max_eigen_val]).tolist() #finding eigen vector\n",
    "    \n",
    "    \n",
    "#process of normalizing eigen vector\n",
    "sum_of_eigen = sum(eigen_vector) \n",
    "eigen_vector_normalized=[]\n",
    "    \n",
    "for i in range(len(eigen_vector)):\n",
    "    eigen_vector_normalized.append(eigen_vector[i]/sum_of_eigen)\n",
    "    \n",
    "       \n",
    "print(\"Eigen vector from parameters comparison - normalized: \")\n",
    "print(eigen_vector_normalized)\n",
    "\n",
    "print(\"Final vector with solution: \")\n",
    "print(final_matrix_criterions.dot(eigen_vector_normalized))\n"
   ]
  },
  {
   "cell_type": "code",
   "execution_count": null,
   "metadata": {},
   "outputs": [],
   "source": []
  }
 ],
 "metadata": {
  "kernelspec": {
   "display_name": "Python 3",
   "language": "python",
   "name": "python3"
  },
  "language_info": {
   "codemirror_mode": {
    "name": "ipython",
    "version": 3
   },
   "file_extension": ".py",
   "mimetype": "text/x-python",
   "name": "python",
   "nbconvert_exporter": "python",
   "pygments_lexer": "ipython3",
   "version": "3.7.0"
  }
 },
 "nbformat": 4,
 "nbformat_minor": 2
}
