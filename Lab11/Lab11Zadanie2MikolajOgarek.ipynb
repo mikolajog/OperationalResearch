{
 "cells": [
  {
   "cell_type": "markdown",
   "metadata": {},
   "source": [
    "# BOIKWD \n",
    "# Lab 11 Programowanie kwadratowe\n",
    "\n",
    "## Mikołaj Ogarek Środa 8:00 grupa 1a"
   ]
  },
  {
   "cell_type": "code",
   "execution_count": 3,
   "metadata": {},
   "outputs": [
    {
     "name": "stdout",
     "output_type": "stream",
     "text": [
      "     pcost       dcost       gap    pres   dres\n",
      " 0:  3.8009e-01  2.2159e+00  2e+01  3e+00  3e+00\n",
      " 1:  2.0935e+00  1.6589e+00  4e+00  4e-01  5e-01\n",
      " 2:  3.0180e+00  2.7060e+00  5e-01  2e-02  2e-02\n",
      " 3:  3.0097e+00  2.9888e+00  2e-02  6e-04  7e-04\n",
      " 4:  3.0068e+00  3.0065e+00  4e-04  1e-05  1e-05\n",
      " 5:  3.0068e+00  3.0068e+00  4e-06  1e-07  1e-07\n",
      " 6:  3.0068e+00  3.0068e+00  4e-08  1e-09  1e-09\n",
      "Optimal solution found.\n",
      "x1: 0.24674\n",
      "x2: 0.53918\n",
      "x3: 0.02843\n",
      "x4: 0.10575\n",
      "x5: 0.0799\n"
     ]
    }
   ],
   "source": [
    "from cvxopt import matrix,solvers\n",
    "\n",
    "Q = matrix([[11.4312, 1.1701, 0.1232, 1.6619, 2.0254],                \n",
    "              [1.1701, 7.7723, 0.4983, 1.1374, 1.7056],\n",
    "              [0.1232, 0.4983, 5.1598, -1.3094, -0.6307],\n",
    "              [1.6619, 1.1374, -1.3094, 20.2858, 2.2824],\n",
    "              [2.0254, 1.7056, -0.6307, 2.2824, 4.3189]])\n",
    "\n",
    "p = matrix([0.94,1.2,-0.02,0.81,0.45])\n",
    "\n",
    "G = matrix([[1.0, -1.0, -0.94, -1.0, 0.0, 0.0, 0.0, 0.0],\n",
    "            [1.0, -1.0, -1.2, 0.0, -1.0, 0.0, 0.0, 0.0],\n",
    "            [1.0, -1.0, 0.02, 0.0, 0.0, -1.0, 0.0, 0.0],\n",
    "            [1.0, -1.0, -0.81, 0.0, 0.0, 0.0, -1.0, 0.0],\n",
    "            [1.0, -1.0, -0.45, 0.0, 0.0, 0.0, 0.0, -1.0]])\n",
    "\n",
    "h = matrix([1.0,-1.0,-1.0,0.0,0.0,0.0,0.0,0.0])\n",
    "\n",
    "x = solvers.qp(Q,p,G,h)\n",
    "\n",
    "print(\"x1:\", round(x['x'][0],5))\n",
    "print(\"x2:\", round(x['x'][1],5))\n",
    "print(\"x3:\", round(x['x'][2],5))\n",
    "print(\"x4:\", round(x['x'][3],5))\n",
    "print(\"x5:\", round(x['x'][4],5))\n",
    "\n",
    "\n"
   ]
  },
  {
   "cell_type": "code",
   "execution_count": null,
   "metadata": {},
   "outputs": [],
   "source": []
  }
 ],
 "metadata": {
  "kernelspec": {
   "display_name": "Python 3",
   "language": "python",
   "name": "python3"
  },
  "language_info": {
   "codemirror_mode": {
    "name": "ipython",
    "version": 3
   },
   "file_extension": ".py",
   "mimetype": "text/x-python",
   "name": "python",
   "nbconvert_exporter": "python",
   "pygments_lexer": "ipython3",
   "version": "3.7.0"
  }
 },
 "nbformat": 4,
 "nbformat_minor": 2
}
