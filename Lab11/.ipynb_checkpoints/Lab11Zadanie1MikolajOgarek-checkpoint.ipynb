{
 "cells": [
  {
   "cell_type": "markdown",
   "metadata": {},
   "source": [
    "# BOIKWD \n",
    "# Lab 11 Programowanie kwadratowe\n",
    "\n",
    "## Mikołaj Ogarek Środa 8:00 grupa 1a"
   ]
  },
  {
   "cell_type": "code",
   "execution_count": 2,
   "metadata": {},
   "outputs": [
    {
     "name": "stdout",
     "output_type": "stream",
     "text": [
      "Requirement already satisfied: qpsolvers in /home/mikolaj/anaconda3/lib/python3.7/site-packages (1.0.7)\n",
      "Requirement already satisfied: quadprog in /home/mikolaj/anaconda3/lib/python3.7/site-packages (from qpsolvers) (0.1.7)\n",
      "Requirement already satisfied: Cython in /home/mikolaj/anaconda3/lib/python3.7/site-packages (from quadprog->qpsolvers) (0.28.5)\n",
      "\u001b[31mtwisted 18.7.0 requires PyHamcrest>=1.9.0, which is not installed.\u001b[0m\n",
      "\u001b[33mYou are using pip version 10.0.1, however version 19.3.1 is available.\n",
      "You should consider upgrading via the 'pip install --upgrade pip' command.\u001b[0m\n",
      "QP solution: [8. 1.]\n"
     ]
    }
   ],
   "source": [
    "!pip install qpsolvers\n",
    "from numpy import array, dot\n",
    "from qpsolvers import solve_qp\n",
    "\n",
    "M = array([[-10.,-2.], [-2.,-1.]])\n",
    "P = dot(M.T, M)  \n",
    "q = dot(array([-10.,-25.]), M).reshape((2,))\n",
    "G = array([[1.,2.], [-1.,-1.],[-1.,0],[0.,-1]])\n",
    "h = array([10.,-9.,0.,0.]).reshape((4,))\n",
    "\n",
    "\n",
    "print (\"QP solution:\", solve_qp(P, q, G, h))"
   ]
  },
  {
   "cell_type": "code",
   "execution_count": null,
   "metadata": {},
   "outputs": [],
   "source": []
  }
 ],
 "metadata": {
  "kernelspec": {
   "display_name": "Python 3",
   "language": "python",
   "name": "python3"
  },
  "language_info": {
   "codemirror_mode": {
    "name": "ipython",
    "version": 3
   },
   "file_extension": ".py",
   "mimetype": "text/x-python",
   "name": "python",
   "nbconvert_exporter": "python",
   "pygments_lexer": "ipython3",
   "version": "3.7.0"
  }
 },
 "nbformat": 4,
 "nbformat_minor": 2
}
