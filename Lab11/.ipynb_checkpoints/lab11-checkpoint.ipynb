{
 "cells": [
  {
   "cell_type": "markdown",
   "metadata": {},
   "source": [
    "# BOIKWD \n",
    "# Lab 11 Programowanie kwadratowe\n",
    "\n",
    "## Mikołaj Ogarek Środa 8:00 grupa 1a"
   ]
  },
  {
   "cell_type": "code",
   "execution_count": null,
   "metadata": {},
   "outputs": [],
   "source": [
    "!pip install qpsolvers"
   ]
  },
  {
   "cell_type": "code",
   "execution_count": 40,
   "metadata": {},
   "outputs": [
    {
     "name": "stdout",
     "output_type": "stream",
     "text": [
      "QP solution: [8. 1.]\n"
     ]
    }
   ],
   "source": [
    "!pip install qpsolvers\n",
    "from numpy import array, dot\n",
    "from qpsolvers import solve_qp\n",
    "\n",
    "M = array([[-10.,-2.], [-2.,-1.]])\n",
    "P = dot(M.T, M)  # quick way to build a symmetric matrix\n",
    "q = dot(array([-10.,-25.]), M).reshape((2,))\n",
    "G = array([[1.,2.], [-1.,-1.],[-1.,0],[0.,-1]])\n",
    "h = array([10.,-9.,0.,0.]).reshape((4,))\n",
    "\n",
    "\n",
    "print (\"QP solution:\", solve_qp(P, q, G, h))"
   ]
  },
  {
   "cell_type": "code",
   "execution_count": 104,
   "metadata": {},
   "outputs": [
    {
     "name": "stdout",
     "output_type": "stream",
     "text": [
      "QP solution: [0.1        0.1        0.56000764 0.1        0.13999236]\n"
     ]
    }
   ],
   "source": [
    "from numpy import array, dot\n",
    "from qpsolvers import solve_qp\n",
    "from math import ceil,floor\n",
    "\n",
    "      \n",
    "M=array([[11.4312,1.1701,0.1232,1.6619,2.0254],[1.1701,7.7723,0.4983,1.1374,1.7056],[0.1232,0.4983,5.1598,-1.3094,-0.6307],[1.6619,1.1374,-1.3094,20.2858,2.2824],[2.0254,1.7056,-0.6307,2.2824,4.3189]])\n",
    "P = dot(M.T, M)\n",
    "q = array([-0.94,-1.2,-0.02,-0.81,-0.45]).T\n",
    "G = array([[-1.,0.,0.,0.,0.],[0.,-1.,0.,0.,0.],[0.,0.,-1.,0.,0.],[0.,0.,0.,-1.,0.],[0.,0.,0.,0.,-1.]])\n",
    "h = array([-0.1,-0.1,-0.1,-0.1,-0.1]).reshape((5,))\n",
    "A = array([1., 1., 1.,1.,1.])\n",
    "b = array([1.])\n",
    "\n",
    "print (\"QP solution:\", solve_qp(P, q, G, h,A,b))\n",
    "\n",
    "       "
   ]
  },
  {
   "cell_type": "code",
   "execution_count": 15,
   "metadata": {},
   "outputs": [
    {
     "name": "stdout",
     "output_type": "stream",
     "text": [
      "Requirement already satisfied: cvxopt in /home/mikolaj/anaconda3/lib/python3.7/site-packages (1.2.3)\n",
      "\u001b[31mtwisted 18.7.0 requires PyHamcrest>=1.9.0, which is not installed.\u001b[0m\n",
      "\u001b[33mYou are using pip version 10.0.1, however version 19.3.1 is available.\n",
      "You should consider upgrading via the 'pip install --upgrade pip' command.\u001b[0m\n",
      "Requirement already satisfied: quadprog in /home/mikolaj/anaconda3/lib/python3.7/site-packages (0.1.7)\n",
      "Requirement already satisfied: Cython in /home/mikolaj/anaconda3/lib/python3.7/site-packages (from quadprog) (0.28.5)\n",
      "\u001b[31mtwisted 18.7.0 requires PyHamcrest>=1.9.0, which is not installed.\u001b[0m\n",
      "\u001b[33mYou are using pip version 10.0.1, however version 19.3.1 is available.\n",
      "You should consider upgrading via the 'pip install --upgrade pip' command.\u001b[0m\n"
     ]
    }
   ],
   "source": [
    "!CVXOPT_BUILD_GLPK=1 pip install cvxopt\n",
    "!pip install quadprog"
   ]
  },
  {
   "cell_type": "code",
   "execution_count": 36,
   "metadata": {},
   "outputs": [
    {
     "data": {
      "text/plain": [
       "array([ 0.00000000e+00, -7.96234263e-17, -4.99836162e-17,  0.00000000e+00,\n",
       "        1.00000000e+00])"
      ]
     },
     "execution_count": 36,
     "metadata": {},
     "output_type": "execute_result"
    }
   ],
   "source": [
    "import numpy\n",
    "import quadprog\n",
    "def quadprog_solve_qp(P, q, G=None, h=None, A=None, b=None):\n",
    "    qp_G = .5 * (P + P.T)   # make sure P is symmetric\n",
    "    qp_a = -q\n",
    "    if A is not None:\n",
    "        qp_C = -numpy.vstack([A, G]).T\n",
    "        qp_b = -numpy.hstack([b, h])\n",
    "        meq = A.shape[0]\n",
    "    else:  # no equality constraint\n",
    "        qp_C = -G.T\n",
    "        qp_b = -h\n",
    "        meq = 0\n",
    "    return quadprog.solve_qp(qp_G, qp_a, qp_C, qp_b, meq)[0]\n",
    "\n",
    "M = array([[1., 2., 0.], [-8., 3., 2.], [0., 1., 1.]])\n",
    "P = dot(M.T, M)\n",
    "q = -dot(M.T, array([3., 2., 3.]))\n",
    "\n",
    "M = array([[1.,0.,0.,0.,0.], [0.,1.,0.,0.,0.],[0.,0.,1.,0.,0.],[0.,0.,0.,1.,0.],[0.,0.,0.,0.,1.]])       \n",
    "kwadratowa=array([[11.4312,1.1701,0.1232,1.6619,2.0254],[1.1701,7.7723,0.4983,1.1374,1.7056],[0.1232,0.4983,5.1598,-1.3094,-0.6307],[1.6619,1.1374,-1.3094,20.2858,2.2824],[2.0254,1.7056,-0.6307,2.2824,4.3189]])\n",
    "P = \n",
    "q = -dot(M.T, array([-0.94,-1.2,0.02,-0.81,-0.45]))\n",
    "\n",
    "G = array([[-1.,0.,0.,0.,0.],[0.,-1.,0.,0.,0.],[0.,0.,-1.,0.,0.],[0.,0.,0.,-1.,0.],[0.,0.,0.,0.,-1.]])\n",
    "h = array([0.,0.,0.,0.,0.]).reshape((5,))\n",
    "A = array([1., 1., 1.,1.,1.])\n",
    "b = array([1.])\n",
    "\n",
    "quadprog_solve_qp(P, q, G, h, A, b)"
   ]
  },
  {
   "cell_type": "code",
   "execution_count": 80,
   "metadata": {},
   "outputs": [
    {
     "name": "stdout",
     "output_type": "stream",
     "text": [
      "3.381005767519482\n"
     ]
    }
   ],
   "source": [
    "import math\n",
    "print(math.sqrt(11.4312))"
   ]
  },
  {
   "cell_type": "code",
   "execution_count": null,
   "metadata": {},
   "outputs": [],
   "source": []
  }
 ],
 "metadata": {
  "kernelspec": {
   "display_name": "Python 3",
   "language": "python",
   "name": "python3"
  },
  "language_info": {
   "codemirror_mode": {
    "name": "ipython",
    "version": 3
   },
   "file_extension": ".py",
   "mimetype": "text/x-python",
   "name": "python",
   "nbconvert_exporter": "python",
   "pygments_lexer": "ipython3",
   "version": "3.7.0"
  }
 },
 "nbformat": 4,
 "nbformat_minor": 2
}
