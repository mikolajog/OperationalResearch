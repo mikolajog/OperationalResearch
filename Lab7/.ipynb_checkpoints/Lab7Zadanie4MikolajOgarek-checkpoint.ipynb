{
 "cells": [
  {
   "cell_type": "markdown",
   "metadata": {},
   "source": [
    "# BOIKWD \n",
    "# Lab 7 Programowanie liniowe\n",
    "\n",
    "## Mikołaj Ogarek Środa 8:00 grupa 1a"
   ]
  },
  {
   "cell_type": "code",
   "execution_count": 1,
   "metadata": {},
   "outputs": [
    {
     "name": "stdout",
     "output_type": "stream",
     "text": [
      "[0.42857143 0.57142857]\n",
      "     fun: 0.5384615384615384\n",
      " message: 'Optimization terminated successfully.'\n",
      "     nit: 3\n",
      "   slack: array([0.76923077, 0.69230769, 0.        , 0.        , 0.        ])\n",
      "  status: 0\n",
      " success: True\n",
      "       x: array([0.23076923, 0.30769231])\n"
     ]
    }
   ],
   "source": [
    "c = [1,1]\n",
    "A = [[1,-4],[0,-9],[-3,-1]]\n",
    "b = [-1,-1,-1]\n",
    "x1_bounds = (0, 1)\n",
    "x2_bounds = (0, 1)\n",
    "\n",
    "\n",
    "from scipy.optimize import linprog\n",
    "res = linprog(c, A_ub=A, b_ub=b, bounds=[x1_bounds, x2_bounds])\n",
    "\n",
    "print(res.x*(1/0.5384615384615384))\n",
    "print(res)"
   ]
  },
  {
   "cell_type": "code",
   "execution_count": 2,
   "metadata": {},
   "outputs": [
    {
     "name": "stdout",
     "output_type": "stream",
     "text": [
      "[0.28571429 0.         0.71428571]\n",
      "     fun: -0.5384615384615385\n",
      " message: 'Optimization terminated successfully.'\n",
      "     nit: 3\n",
      "   slack: array([0.        , 0.        , 0.84615385, 1.        , 0.61538462])\n",
      "  status: 0\n",
      " success: True\n",
      "       x: array([0.15384615, 0.        , 0.38461538])\n"
     ]
    }
   ],
   "source": [
    "c = [-1,-1,-1]\n",
    "A = [[-1,9,3],[4,0,1]]\n",
    "b = [1,1]\n",
    "x1_bounds = (0, 1)\n",
    "x2_bounds = (0, 1)\n",
    "x3_bounds = (0, 1)\n",
    "\n",
    "from scipy.optimize import linprog\n",
    "res = linprog(c, A_ub=A, b_ub=b, bounds=[x1_bounds, x2_bounds, x3_bounds])\n",
    "\n",
    "print(res.x*(1/0.5384615384615384))\n",
    "print(res)"
   ]
  },
  {
   "cell_type": "code",
   "execution_count": 3,
   "metadata": {},
   "outputs": [
    {
     "name": "stdout",
     "output_type": "stream",
     "text": [
      "0.8571428571428572\n"
     ]
    }
   ],
   "source": [
    "print((1/0.5384615384615384)-1)"
   ]
  },
  {
   "cell_type": "code",
   "execution_count": null,
   "metadata": {},
   "outputs": [],
   "source": []
  }
 ],
 "metadata": {
  "kernelspec": {
   "display_name": "Python 3",
   "language": "python",
   "name": "python3"
  },
  "language_info": {
   "codemirror_mode": {
    "name": "ipython",
    "version": 3
   },
   "file_extension": ".py",
   "mimetype": "text/x-python",
   "name": "python",
   "nbconvert_exporter": "python",
   "pygments_lexer": "ipython3",
   "version": "3.7.0"
  }
 },
 "nbformat": 4,
 "nbformat_minor": 2
}
