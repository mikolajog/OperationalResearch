{
 "cells": [
  {
   "cell_type": "markdown",
   "metadata": {},
   "source": [
    "# BOIKWD \n",
    "# Lab 7 Programowanie liniowe\n",
    "\n",
    "## Mikołaj Ogarek Środa 8:00 grupa 1a"
   ]
  },
  {
   "cell_type": "code",
   "execution_count": 7,
   "metadata": {},
   "outputs": [
    {
     "name": "stdout",
     "output_type": "stream",
     "text": [
      "[0.         0.57142857 0.42857143 0.        ]\n"
     ]
    }
   ],
   "source": [
    "c = [8,4]\n",
    "A = [[-5,-15],[-20,-5],[15,2]]\n",
    "b = [-50,-40,60]\n",
    "x1_bounds = (0, None)\n",
    "x2_bounds = (0, None)\n",
    "\n",
    "from scipy.optimize import linprog\n",
    "res = linprog(c, A_ub=A, b_ub=b, bounds=[x1_bounds, x2_bounds])\n",
    "\n",
    "print(res)"
   ]
  },
  {
   "cell_type": "code",
   "execution_count": 6,
   "metadata": {},
   "outputs": [
    {
     "name": "stdout",
     "output_type": "stream",
     "text": [
      "     fun: -0.5\n",
      " message: 'Optimization terminated successfully.'\n",
      "     nit: 4\n",
      "   slack: array([0. , 0. , 0. , 0.1, 1. , 0.7, 0.8, 1. ])\n",
      "  status: 0\n",
      " success: True\n",
      "       x: array([0. , 0.3, 0.2, 0. ])\n"
     ]
    }
   ],
   "source": [
    "c = [-1,-1,-1,-1]\n",
    "A = [[2,4,-1,2],[0,2,2,5],[5,2,2,-2],[2,-1,6,2]]\n",
    "b = [1,1,1,1]\n",
    "x1_bounds = (0, 1)\n",
    "x2_bounds = (0, 1)\n",
    "x3_bounds = (0, 1)\n",
    "x4_bounds = (0, 1)\n",
    "\n",
    "from scipy.optimize import linprog\n",
    "res = linprog(c, A_ub=A, b_ub=b, bounds=[x1_bounds, x2_bounds, x3_bounds,x4_bounds])\n",
    "\n",
    "print(res)"
   ]
  },
  {
   "cell_type": "code",
   "execution_count": null,
   "metadata": {},
   "outputs": [],
   "source": []
  }
 ],
 "metadata": {
  "kernelspec": {
   "display_name": "Python 3",
   "language": "python",
   "name": "python3"
  },
  "language_info": {
   "codemirror_mode": {
    "name": "ipython",
    "version": 3
   },
   "file_extension": ".py",
   "mimetype": "text/x-python",
   "name": "python",
   "nbconvert_exporter": "python",
   "pygments_lexer": "ipython3",
   "version": "3.7.0"
  }
 },
 "nbformat": 4,
 "nbformat_minor": 2
}
