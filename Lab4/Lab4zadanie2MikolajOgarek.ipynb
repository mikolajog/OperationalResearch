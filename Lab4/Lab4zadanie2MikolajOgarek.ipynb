{
 "cells": [
  {
   "cell_type": "markdown",
   "metadata": {},
   "source": [
    "# BOIKWD \n",
    "# Lab 4 HRE (Heuristic Rating Estimation)\n",
    "\n",
    "## Mikołaj Ogarek Środa 8:00 grupa 1a"
   ]
  },
  {
   "cell_type": "markdown",
   "metadata": {},
   "source": [
    "Zadanie - liczenie rankingu metodą geometryczną"
   ]
  },
  {
   "cell_type": "code",
   "execution_count": 40,
   "metadata": {},
   "outputs": [],
   "source": [
    "from math import sqrt\n",
    "#functions\n",
    "\n",
    "#Koczkodaj's index\n",
    "def koczkodaj_index(A):\n",
    "    \n",
    "    lista=[]\n",
    "    \n",
    "    for i in range(len(A)):\n",
    "        for j in range(len(A)):\n",
    "            for k in range(len(A)):\n",
    "                licz1 = A[i][j]/((A[i][k])*(A[k][j]))\n",
    "                \n",
    "                l = [abs(1-licz1),abs(1-(1/licz1))]\n",
    "                \n",
    "                lista.append(min(l))\n",
    "                \n",
    "                \n",
    "    return max(lista)\n",
    "\n",
    "\n",
    "#value to check if can trust HRE\n",
    "def check_if_can_trust_HRE(A,k):\n",
    "    koczk = koczkodaj_index(A)\n",
    "    n = len(A[0])\n",
    "    \n",
    "    value = 1 - ((1+sqrt(4*(n-1)*(n-k-2)))/(2*(n-1)))\n",
    "    \n",
    "    print(\"Koczkodaj: \" + str(koczk))\n",
    "    print(\"Value to compare: \"+str(value))\n",
    "    if (value > koczk):\n",
    "        print(\"Can 100% trust HRE\")\n",
    "    else:\n",
    "        print(\"Cannot 100% trust HRE\")\n",
    "        \n",
    "#HRE geometric\n",
    "import numpy as np\n",
    "def HRE_geometric(A,w,kolejnosc):\n",
    "    A = np.array(A)\n",
    "    k = len(w)\n",
    "    n = len(A[0])\n",
    "    \n",
    "    \n",
    "    compare_vector =[] \n",
    "    for i in range(0,n):\n",
    "        compare_vector.append(i)\n",
    "        kolejnosc[i] = kolejnosc[i] - 1\n",
    "\n",
    "    \n",
    "    A[:,compare_vector] = A[:,kolejnosc]\n",
    "    A[compare_vector,:] = A[kolejnosc,:]\n",
    "    \n",
    "    \n",
    "    Aprim = np.full((n-k,n-k), -1)\n",
    "    np.fill_diagonal(Aprim, n-1)\n",
    "    \n",
    "    \n",
    "    Bprim=[]\n",
    "    for i in range(n-k):\n",
    "        b = 1\n",
    "        for j in range(n):\n",
    "            b=b*A[i][j]\n",
    "        \n",
    "        for l in range(k):\n",
    "            b= b*w[l]\n",
    "        \n",
    "        \n",
    "        b = np.log10(b)\n",
    "        \n",
    "        Bprim.append(b)\n",
    "   \n",
    "    w1 = np.dot(np.linalg.inv(Aprim),Bprim)\n",
    "    \n",
    "    for i in range(len(w1)):\n",
    "        w1[i] = pow(10,w1[i])\n",
    "        \n",
    "    w1 = w1.tolist()\n",
    "        \n",
    "    for i in w:\n",
    "        w1.append(i)\n",
    "    w1 = np.array(w1)\n",
    "    \n",
    "    w1[kolejnosc] =  w1[compare_vector] \n",
    "    print(\"Rozwiązanie: \") \n",
    "    print(w1)\n",
    "    \n",
    "    \n",
    "    "
   ]
  },
  {
   "cell_type": "code",
   "execution_count": 41,
   "metadata": {},
   "outputs": [
    {
     "name": "stdout",
     "output_type": "stream",
     "text": [
      "Koczkodaj: 0.21875\n",
      "Value to compare: 0.26754446796632414\n",
      "Can 100% trust HRE\n",
      "Rozwiązanie: \n",
      "[5.35311934 8.36693726 2.7275953  2.31136976 3.         1.        ]\n"
     ]
    }
   ],
   "source": [
    "\n",
    "A=[[1,2/3,2,5/2,5/3,5],[\n",
    "3/2,1,3,10/3,3,9],[\n",
    "1/2,1/3,1,4/3,7/8,5/2],[\n",
    "2/5,3/10,3/4,1,5/6,12/5],[\n",
    "3/5,1/3,8/7,6/5,1,3],[\n",
    "1/5,1/9,2/5,5/12,1/3,1]]\n",
    "6\n",
    "k=2\n",
    "check_if_can_trust_HRE(A,k)\n",
    "\n",
    "HRE_geometric(A,[3,1],[1,2,3,4,5,6])\n"
   ]
  },
  {
   "cell_type": "code",
   "execution_count": 42,
   "metadata": {},
   "outputs": [
    {
     "name": "stdout",
     "output_type": "stream",
     "text": [
      "Koczkodaj: 0.9464285714285714\n",
      "Value to compare: 0.45278640450004204\n",
      "Cannot 100% trust HRE\n",
      "Rozwiązanie: \n",
      "[1.00002314 0.92779574 0.76996298 2.         0.5        1.        ]\n"
     ]
    }
   ],
   "source": [
    "B=[[1,2/5,3,7/3,1/2,1],[\n",
    "5/2,1,4/7,5/8,1/3,3],[\n",
    "1/3,7/4,1,1/2,2,1/2],[\n",
    "3/7,8/5,2,1,4,2],[\n",
    "2,3,1/2,1/4,1,1/2],[\n",
    "1,1/3,2,1/2,2,1]]\n",
    "\n",
    "k=3\n",
    "check_if_can_trust_HRE(B,k)\n",
    "HRE_geometric(B,[2,1/2,1],[1,2,3,4,5,6])"
   ]
  },
  {
   "cell_type": "code",
   "execution_count": 43,
   "metadata": {},
   "outputs": [
    {
     "name": "stdout",
     "output_type": "stream",
     "text": [
      "Koczkodaj: 0.14500000000000013\n",
      "Value to compare: 0.26754446796632414\n",
      "Can 100% trust HRE\n",
      "Rozwiązanie: \n",
      "[ 8.18670835  2.         10.11347353  5.          2.04604087  3.00786814]\n"
     ]
    }
   ],
   "source": [
    "C=[[1,17/4,17/20,8/5,23/6,8/3],[\n",
    "4/17,1,1/5,2/5,9/10,2/3],[\n",
    "20/17,5,1,21/10,51/10,10/3],[\n",
    "5/8,5/2,10/21,1,5/2,11/6],[\n",
    "6/23,10/9,10/51,2/5,1,19/30],[\n",
    "3/8,3/2,3/10,6/11,30/19,1]]\n",
    "\n",
    "k=2\n",
    "check_if_can_trust_HRE(C,k)\n",
    "HRE_geometric(C,[2,5],[1,3,5,6,2,4])"
   ]
  },
  {
   "cell_type": "code",
   "execution_count": null,
   "metadata": {},
   "outputs": [],
   "source": []
  }
 ],
 "metadata": {
  "kernelspec": {
   "display_name": "Python 3",
   "language": "python",
   "name": "python3"
  },
  "language_info": {
   "codemirror_mode": {
    "name": "ipython",
    "version": 3
   },
   "file_extension": ".py",
   "mimetype": "text/x-python",
   "name": "python",
   "nbconvert_exporter": "python",
   "pygments_lexer": "ipython3",
   "version": "3.7.0"
  }
 },
 "nbformat": 4,
 "nbformat_minor": 2
}
