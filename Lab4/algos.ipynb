{
 "cells": [
  {
   "cell_type": "markdown",
   "metadata": {},
   "source": [
    "# BOIKWD \n",
    "# Lab 4 HRE (Heuristic Rating Estimation)\n",
    "\n",
    "## Mikołaj Ogarek Środa 8:00 grupa 1a"
   ]
  },
  {
   "cell_type": "markdown",
   "metadata": {},
   "source": []
  },
  {
   "cell_type": "code",
   "execution_count": 70,
   "metadata": {},
   "outputs": [
    {
     "name": "stdout",
     "output_type": "stream",
     "text": [
      "4 6\n",
      "5 2\n",
      "{1: 2.833333333333333, 2: 5.25, 3: 3.5}\n",
      "[2.833333333333333, 5.25, 3.5, 6, 2]\n",
      "[2.8604166666666666, 4.604166666666666, 3.65, 6, 2]\n"
     ]
    }
   ],
   "source": [
    "#dane\n",
    "#arithmetic\n",
    "\n",
    "M = [[1,3/5,3/4,1/2,4/3],[5/4,1,5/4,11/12,5/2],[6/5,4/5,1,1/2,2],[3/2,6/5,6/5,1,3],[2/3,3/5,4/7,1/3,1]]\n",
    "\n",
    "A=[[1,2/3,2,5/2,5/3,5],[\n",
    "3/2,1,3,10/3,3,9],[\n",
    "1/2,1/3,1,4/3,7/8,5/2],[\n",
    "2/5,3/10,3/4,1,5/6,12/5],[\n",
    "3/5,1/3,8/7,6/5,1,3],[\n",
    "1/5,1/9,2/5,5/12,1/3,1]]\n",
    "\n",
    "B=[[1,2/5,3,7/3,1/2,1],[\n",
    "5/2,1,4/7,5/8,1/3,3],[\n",
    "1/3,7/4,1,1/2,2,1/2],[\n",
    "3/7,8/5,2,1,4,2],[\n",
    "2,3,1/2,1/4,1,1/2],[\n",
    "1,1/3,2,1/2,2,1]]\n",
    "\n",
    "\n",
    "C=[[1,17/4,17/20,8/5,23/6,8/3],[\n",
    "4/17,1,1/5,2/5,9/10,2/3],[\n",
    "20/17,5,1,21/10,51/10,10/3],[\n",
    "5/8,5/2,10/21,1,5/2,11/6],[\n",
    "6/23,10/9,10/51,2/5,1,19/30],[\n",
    "3/8,3/2,3/10,6/11,30/19,1]]\n",
    "\n",
    "\n",
    "\n",
    "Ck={4:6, 5:2} \n",
    "for k, v in Ck.items():\n",
    "   print (k, v)\n",
    "\n",
    "def HRE(M, Ck):\n",
    "    n = len(M[0])\n",
    "    \n",
    "    Cu={}\n",
    "    \n",
    "    n1 = len(Ck)\n",
    "    \n",
    "    for i in range(1,n+1):\n",
    "        if i in Ck.keys():\n",
    "            continue\n",
    "        sumka = 0\n",
    "        for k,v in Ck.items():\n",
    "            sumka += M[i-1][k-1]*v\n",
    "        Cu[i] = (1/(n1)) * sumka\n",
    "    \n",
    "    print(Cu)\n",
    "    \n",
    "    \n",
    "    tab=[]\n",
    "    for i in range(n):\n",
    "        tab.append(0)\n",
    "    \n",
    "    for k, v in Cu.items():\n",
    "        tab[k-1] = v\n",
    "    \n",
    "    for k,v in Ck.items():\\\n",
    "        tab[k-1] = v\n",
    "    \n",
    "    print(tab)\n",
    "    \n",
    "    n1 = len(tab)\n",
    "    \n",
    "    for k,v in Cu.items():\n",
    "        sumka = 0\n",
    "        for i in range (1,n1+1):\n",
    "            if(i!=k):\n",
    "                sumka += M[k-1][i-1]*tab[i-1]\n",
    "        Cu[k] = (1/(n1-1))*sumka\n",
    "        \n",
    "    for k, v in Cu.items():\n",
    "        tab[k-1] = v\n",
    "        \n",
    "    print(tab)\n",
    "     \n",
    "\n",
    "HRE(M, Ck)\n",
    "\n",
    "\n",
    "\n",
    "\n"
   ]
  },
  {
   "cell_type": "code",
   "execution_count": 71,
   "metadata": {},
   "outputs": [
    {
     "name": "stdout",
     "output_type": "stream",
     "text": [
      "{1: 5.0, 2: 9.0, 3: 2.5625, 4: 2.45}\n",
      "[5.0, 9.0, 2.5625, 2.45, 3, 1]\n",
      "[5.45, 8.270833333333334, 2.7783333333333333, 2.304375, 3, 1]\n"
     ]
    }
   ],
   "source": [
    "Ck={5:3, 6:1}\n",
    "HRE(A, Ck)"
   ]
  },
  {
   "cell_type": "code",
   "execution_count": 72,
   "metadata": {},
   "outputs": [
    {
     "name": "stdout",
     "output_type": "stream",
     "text": [
      "{1: 1.9722222222222223, 2: 1.4722222222222223, 3: 0.8333333333333333}\n",
      "[1.9722222222222223, 1.4722222222222223, 0.8333333333333333, 2, 0.5, 1]\n",
      "[1.8011111111111113, 1.96468253968254, 1.1467592592592595, 2, 0.5, 1]\n"
     ]
    }
   ],
   "source": [
    "Ck={4:2,5:1/2,6:1}\n",
    "HRE(B, Ck)"
   ]
  },
  {
   "cell_type": "code",
   "execution_count": 73,
   "metadata": {},
   "outputs": [
    {
     "name": "stdout",
     "output_type": "stream",
     "text": [
      "{1: 8.25, 3: 10.25, 5: 2.111111111111111, 6: 2.8636363636363633}\n",
      "[8.25, 2, 10.25, 5, 2.111111111111111, 2.8636363636363633]\n",
      "[8.188291245791246, 2, 10.103600713012478, 5, 2.039567284094138, 3.045871212121212]\n"
     ]
    }
   ],
   "source": [
    "Ck={2:2,4:5}\n",
    "HRE(C, Ck)"
   ]
  },
  {
   "cell_type": "code",
   "execution_count": null,
   "metadata": {},
   "outputs": [],
   "source": []
  }
 ],
 "metadata": {
  "kernelspec": {
   "display_name": "Python 3",
   "language": "python",
   "name": "python3"
  },
  "language_info": {
   "codemirror_mode": {
    "name": "ipython",
    "version": 3
   },
   "file_extension": ".py",
   "mimetype": "text/x-python",
   "name": "python",
   "nbconvert_exporter": "python",
   "pygments_lexer": "ipython3",
   "version": "3.7.0"
  }
 },
 "nbformat": 4,
 "nbformat_minor": 2
}
